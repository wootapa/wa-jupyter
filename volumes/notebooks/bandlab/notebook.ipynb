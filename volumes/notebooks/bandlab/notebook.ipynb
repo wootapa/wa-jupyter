{
 "cells": [
  {
   "cell_type": "code",
   "execution_count": null,
   "metadata": {},
   "outputs": [],
   "source": [
    "import os\n",
    "import numpy as np\n",
    "import rasterio as rio\n",
    "import rasterio.plot\n",
    "import rasterio.features\n",
    "import rasterio.warp\n",
    "import matplotlib.pyplot as plt\n",
    "import earthpy as et\n",
    "import earthpy.spatial as es\n",
    "import earthpy.plot as ep\n",
    "from matplotlib.colors import ListedColormap\n",
    "%matplotlib inline"
   ]
  },
  {
   "cell_type": "code",
   "execution_count": null,
   "metadata": {},
   "outputs": [],
   "source": [
    "workdir = os.path.abspath('')\n",
    "dataset = rio.open(os.path.join(workdir, 'data.tif'))\n",
    "bands = dataset.read()\n",
    "red, green, blue, nir = bands\n",
    "\n",
    "print(dataset.shape)\n",
    "print(dataset.bounds)\n",
    "print(dataset.crs)\n",
    "print(dataset.count)\n",
    "print(dataset.dtypes)\n",
    "print(dataset.meta)"
   ]
  },
  {
   "cell_type": "code",
   "execution_count": null,
   "metadata": {},
   "outputs": [],
   "source": [
    "titles = [\"Red\", \"Green\", \"Blue\", \"NIR\"]\n",
    "ep.plot_bands(bands, cols=4, title=titles, cmap=\"pink\", figsize=(20, 20))\n",
    "rio.plot.show_hist(bands, title=titles, bins=50, histtype='stepfilled', lw=0.0, stacked=False, alpha=0.3)\n",
    "plt.show()"
   ]
  },
  {
   "cell_type": "code",
   "execution_count": null,
   "metadata": {},
   "outputs": [],
   "source": [
    "fig, (ax1, ax2) = plt.subplots(ncols=2, nrows=1, figsize=(50, 50), sharey=True)\n",
    "ep.plot_rgb(\n",
    "    bands,\n",
    "    rgb=[0, 1, 2],\n",
    "    ax=ax1,\n",
    "    stretch=True,\n",
    "    str_clip=2,\n",
    "    title=\"RGB. Natural color\",\n",
    ")\n",
    "ep.plot_rgb(\n",
    "    bands,\n",
    "    rgb=[3, 0, 1],\n",
    "    ax=ax2,\n",
    "    stretch=True,\n",
    "    str_clip=2,\n",
    "    title=\"NRG/CIR. Color infrared.\",\n",
    ")\n",
    "plt.show()"
   ]
  },
  {
   "cell_type": "code",
   "execution_count": null,
   "metadata": {},
   "outputs": [],
   "source": [
    "#https://www.hatarilabs.com/ih-en/ndvi-calculation-from-landsat8-images-with-python-3-and-rasterio-tutorial\n",
    "#https://earthpy.readthedocs.io/en/latest/gallery_vignettes/plot_draw_legend_docs.html\n",
    "#http://patrickgray.me/open-geo-tutorial/chapter_2_indices.html\n",
    "\n",
    "red64 = red.astype('float64')\n",
    "nir64 = nir.astype('float64')\n",
    "ndvi=np.where((nir64+red64)==0., 0, (nir64-red64) / (nir64+red64))\n",
    "#ndvi = (nir64-red64)/(nir64+red64)\n",
    "\n",
    "f, ax = plt.subplots(figsize=(20, 20))\n",
    "im = ax.imshow(ndvi, cmap=\"RdYlGn\")\n",
    "ep.draw_legend(\n",
    "    im,\n",
    "    titles=[\n",
    "        \"No Vegetation\",\n",
    "        \"Low Vegetation\",\n",
    "        \"Mid-low Vegetation\",\n",
    "        \"Average Vegetation\",\n",
    "        \"Mid-high Vegetation\",\n",
    "        \"High Vegetation\",\n",
    "    ],\n",
    "    classes=[-np.inf, 0.2, 0.28, 0.36, 0.44, 0.52]\n",
    ")\n",
    "plt.tight_layout()\n",
    "ax.set_axis_off()\n",
    "# Auto adjust subplot to fit figure size\n",
    "plt.tight_layout()\n",
    "plt.show()\n",
    "\n",
    "ep.hist(ndvi, bins=100)\n",
    "print('Min   : {m}'.format(m=ndvi.min()))\n",
    "print('Max   : {m}'.format(m=ndvi.max()))\n",
    "print('Mean  : {m}'.format(m=ndvi.mean()))\n",
    "print('Median: {m}'.format(m=np.median(ndvi)))\n",
    "plt.show()"
   ]
  }
 ],
 "metadata": {
  "kernelspec": {
   "display_name": "Python 3",
   "language": "python",
   "name": "python3"
  },
  "language_info": {
   "codemirror_mode": {
    "name": "ipython",
    "version": 3
   },
   "file_extension": ".py",
   "mimetype": "text/x-python",
   "name": "python",
   "nbconvert_exporter": "python",
   "pygments_lexer": "ipython3",
   "version": "3.7.6"
  }
 },
 "nbformat": 4,
 "nbformat_minor": 4
}
