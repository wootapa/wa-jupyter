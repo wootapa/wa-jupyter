{
 "cells": [
  {
   "cell_type": "code",
   "execution_count": null,
   "metadata": {},
   "outputs": [],
   "source": [
    "import os\n",
    "import geopandas as gpd\n",
    "from pathlib import Path\n",
    "from shapely import wkt\n",
    "from shapely.geometry import Point\n",
    "import matplotlib.pyplot as plt\n",
    "%matplotlib notebook\n",
    "workdir = os.path.abspath('')"
   ]
  },
  {
   "cell_type": "code",
   "execution_count": null,
   "metadata": {},
   "outputs": [],
   "source": [
    "# Read to shapely objects\n",
    "geom_text = Path(os.path.join(workdir, 'data.wkt')).read_text()\n",
    "poly = wkt.loads(geom_text)\n",
    "points = [Point(x,y) for x,y in poly.exterior.coords]"
   ]
  },
  {
   "cell_type": "code",
   "execution_count": null,
   "metadata": {
    "scrolled": false
   },
   "outputs": [],
   "source": [
    "#Check valid\n",
    "print('Valid:{}'.format(poly.is_valid))\n",
    "\n",
    "# Create geopandas dataframes\n",
    "df_poly = gpd.GeoSeries(data=poly, crs='EPSG:3006')\n",
    "df_points = gpd.GeoSeries(data=points, crs='EPSG:3006')\n",
    "\n",
    "# Plot them (Use zoom button to inspect closeup)\n",
    "fig, ax = plt.subplots()\n",
    "df_poly.plot(ax=ax, color='green', edgecolor='black')\n",
    "df_points.plot(ax=ax, color='red', edgecolor='black')"
   ]
  }
 ],
 "metadata": {
  "kernelspec": {
   "display_name": "Python 3",
   "language": "python",
   "name": "python3"
  },
  "language_info": {
   "codemirror_mode": {
    "name": "ipython",
    "version": 3
   },
   "file_extension": ".py",
   "mimetype": "text/x-python",
   "name": "python",
   "nbconvert_exporter": "python",
   "pygments_lexer": "ipython3",
   "version": "3.7.6"
  }
 },
 "nbformat": 4,
 "nbformat_minor": 4
}
